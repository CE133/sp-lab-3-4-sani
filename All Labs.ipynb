{
 "cells": [
  {
   "cell_type": "code",
   "execution_count": null,
   "metadata": {},
   "outputs": [],
   "source": [
    "#LAB 1 "
   ]
  },
  {
   "cell_type": "code",
   "execution_count": 3,
   "metadata": {},
   "outputs": [
    {
     "name": "stdout",
     "output_type": "stream",
     "text": [
      "3\n",
      "ddu\n"
     ]
    }
   ],
   "source": [
    "a=3\n",
    "print(a)\n",
    "print(\"ddu\")"
   ]
  },
  {
   "cell_type": "code",
   "execution_count": 4,
   "metadata": {},
   "outputs": [
    {
     "data": {
      "text/plain": [
       "8"
      ]
     },
     "execution_count": 4,
     "metadata": {},
     "output_type": "execute_result"
    }
   ],
   "source": [
    "3+5"
   ]
  },
  {
   "cell_type": "code",
   "execution_count": 5,
   "metadata": {},
   "outputs": [
    {
     "data": {
      "text/plain": [
       "-2"
      ]
     },
     "execution_count": 5,
     "metadata": {},
     "output_type": "execute_result"
    }
   ],
   "source": [
    "3-5"
   ]
  },
  {
   "cell_type": "code",
   "execution_count": 6,
   "metadata": {},
   "outputs": [
    {
     "data": {
      "text/plain": [
       "15"
      ]
     },
     "execution_count": 6,
     "metadata": {},
     "output_type": "execute_result"
    }
   ],
   "source": [
    "3*5"
   ]
  },
  {
   "cell_type": "code",
   "execution_count": 7,
   "metadata": {},
   "outputs": [
    {
     "data": {
      "text/plain": [
       "1.6666666666666667"
      ]
     },
     "execution_count": 7,
     "metadata": {},
     "output_type": "execute_result"
    }
   ],
   "source": [
    "5/3"
   ]
  },
  {
   "cell_type": "code",
   "execution_count": 8,
   "metadata": {},
   "outputs": [
    {
     "data": {
      "text/plain": [
       "25"
      ]
     },
     "execution_count": 8,
     "metadata": {},
     "output_type": "execute_result"
    }
   ],
   "source": [
    "5**2"
   ]
  },
  {
   "cell_type": "code",
   "execution_count": 9,
   "metadata": {},
   "outputs": [
    {
     "data": {
      "text/plain": [
       "1"
      ]
     },
     "execution_count": 9,
     "metadata": {},
     "output_type": "execute_result"
    }
   ],
   "source": [
    "5%2"
   ]
  },
  {
   "cell_type": "code",
   "execution_count": 10,
   "metadata": {},
   "outputs": [
    {
     "data": {
      "text/plain": [
       "1"
      ]
     },
     "execution_count": 10,
     "metadata": {},
     "output_type": "execute_result"
    }
   ],
   "source": [
    "5//3"
   ]
  },
  {
   "cell_type": "code",
   "execution_count": 11,
   "metadata": {},
   "outputs": [
    {
     "data": {
      "text/plain": [
       "True"
      ]
     },
     "execution_count": 11,
     "metadata": {},
     "output_type": "execute_result"
    }
   ],
   "source": [
    "1==1"
   ]
  },
  {
   "cell_type": "code",
   "execution_count": 12,
   "metadata": {},
   "outputs": [
    {
     "data": {
      "text/plain": [
       "False"
      ]
     },
     "execution_count": 12,
     "metadata": {},
     "output_type": "execute_result"
    }
   ],
   "source": [
    "1!=1"
   ]
  },
  {
   "cell_type": "code",
   "execution_count": 13,
   "metadata": {},
   "outputs": [
    {
     "data": {
      "text/plain": [
       "True"
      ]
     },
     "execution_count": 13,
     "metadata": {},
     "output_type": "execute_result"
    }
   ],
   "source": [
    "1<2"
   ]
  },
  {
   "cell_type": "code",
   "execution_count": 14,
   "metadata": {},
   "outputs": [
    {
     "data": {
      "text/plain": [
       "False"
      ]
     },
     "execution_count": 14,
     "metadata": {},
     "output_type": "execute_result"
    }
   ],
   "source": [
    "1>4"
   ]
  },
  {
   "cell_type": "code",
   "execution_count": 15,
   "metadata": {},
   "outputs": [
    {
     "data": {
      "text/plain": [
       "True"
      ]
     },
     "execution_count": 15,
     "metadata": {},
     "output_type": "execute_result"
    }
   ],
   "source": [
    "1>=1"
   ]
  },
  {
   "cell_type": "code",
   "execution_count": 16,
   "metadata": {},
   "outputs": [
    {
     "data": {
      "text/plain": [
       "True"
      ]
     },
     "execution_count": 16,
     "metadata": {},
     "output_type": "execute_result"
    }
   ],
   "source": [
    "1<=2"
   ]
  },
  {
   "cell_type": "code",
   "execution_count": 17,
   "metadata": {},
   "outputs": [],
   "source": [
    "a=5"
   ]
  },
  {
   "cell_type": "code",
   "execution_count": 18,
   "metadata": {},
   "outputs": [
    {
     "data": {
      "text/plain": [
       "5"
      ]
     },
     "execution_count": 18,
     "metadata": {},
     "output_type": "execute_result"
    }
   ],
   "source": [
    "a=5\n",
    "a"
   ]
  },
  {
   "cell_type": "code",
   "execution_count": 19,
   "metadata": {},
   "outputs": [
    {
     "data": {
      "text/plain": [
       "8"
      ]
     },
     "execution_count": 19,
     "metadata": {},
     "output_type": "execute_result"
    }
   ],
   "source": [
    "a+=3\n",
    "a"
   ]
  },
  {
   "cell_type": "code",
   "execution_count": 20,
   "metadata": {},
   "outputs": [],
   "source": [
    "a**=2"
   ]
  },
  {
   "cell_type": "code",
   "execution_count": 21,
   "metadata": {},
   "outputs": [
    {
     "data": {
      "text/plain": [
       "64"
      ]
     },
     "execution_count": 21,
     "metadata": {},
     "output_type": "execute_result"
    }
   ],
   "source": [
    "a"
   ]
  },
  {
   "cell_type": "code",
   "execution_count": 23,
   "metadata": {},
   "outputs": [
    {
     "data": {
      "text/plain": [
       "4"
      ]
     },
     "execution_count": 23,
     "metadata": {},
     "output_type": "execute_result"
    }
   ],
   "source": [
    "a//=4\n",
    "a"
   ]
  },
  {
   "cell_type": "code",
   "execution_count": 24,
   "metadata": {},
   "outputs": [
    {
     "data": {
      "text/plain": [
       "False"
      ]
     },
     "execution_count": 24,
     "metadata": {},
     "output_type": "execute_result"
    }
   ],
   "source": [
    "True and False"
   ]
  },
  {
   "cell_type": "code",
   "execution_count": 25,
   "metadata": {},
   "outputs": [
    {
     "data": {
      "text/plain": [
       "True"
      ]
     },
     "execution_count": 25,
     "metadata": {},
     "output_type": "execute_result"
    }
   ],
   "source": [
    "True or False"
   ]
  },
  {
   "cell_type": "code",
   "execution_count": 26,
   "metadata": {},
   "outputs": [
    {
     "data": {
      "text/plain": [
       "True"
      ]
     },
     "execution_count": 26,
     "metadata": {},
     "output_type": "execute_result"
    }
   ],
   "source": [
    "'hello' in \"hello india\""
   ]
  },
  {
   "cell_type": "code",
   "execution_count": 27,
   "metadata": {},
   "outputs": [
    {
     "data": {
      "text/plain": [
       "-8"
      ]
     },
     "execution_count": 27,
     "metadata": {},
     "output_type": "execute_result"
    }
   ],
   "source": [
    "~7"
   ]
  },
  {
   "cell_type": "code",
   "execution_count": 28,
   "metadata": {},
   "outputs": [
    {
     "name": "stdout",
     "output_type": "stream",
     "text": [
      "8\n",
      "Deepang\n"
     ]
    }
   ],
   "source": [
    "a=3+5\n",
    "print(a)\n",
    "print(\"Deepang\")"
   ]
  },
  {
   "cell_type": "code",
   "execution_count": 30,
   "metadata": {},
   "outputs": [
    {
     "data": {
      "text/plain": [
       "True"
      ]
     },
     "execution_count": 30,
     "metadata": {},
     "output_type": "execute_result"
    }
   ],
   "source": [
    "'abc'is'abc'"
   ]
  },
  {
   "cell_type": "code",
   "execution_count": 31,
   "metadata": {},
   "outputs": [
    {
     "data": {
      "text/plain": [
       "\"Isn't,she said.\""
      ]
     },
     "execution_count": 31,
     "metadata": {},
     "output_type": "execute_result"
    }
   ],
   "source": [
    "'Isn\\'t,she said.'"
   ]
  },
  {
   "cell_type": "code",
   "execution_count": 32,
   "metadata": {},
   "outputs": [
    {
     "name": "stdout",
     "output_type": "stream",
     "text": [
      "First Line.\n",
      "Second Line.\n"
     ]
    }
   ],
   "source": [
    "print('First Line.\\nSecond Line.')"
   ]
  },
  {
   "cell_type": "code",
   "execution_count": 33,
   "metadata": {},
   "outputs": [
    {
     "name": "stdout",
     "output_type": "stream",
     "text": [
      "C:\\some\\name\n"
     ]
    }
   ],
   "source": [
    "print(r'C:\\some\\name')"
   ]
  },
  {
   "cell_type": "code",
   "execution_count": 34,
   "metadata": {},
   "outputs": [
    {
     "data": {
      "text/plain": [
       "'ell'"
      ]
     },
     "execution_count": 34,
     "metadata": {},
     "output_type": "execute_result"
    }
   ],
   "source": [
    "name=\"Hello DDU\"\n",
    "name[1:4]"
   ]
  },
  {
   "cell_type": "code",
   "execution_count": 35,
   "metadata": {},
   "outputs": [
    {
     "data": {
      "text/plain": [
       "True"
      ]
     },
     "execution_count": 35,
     "metadata": {},
     "output_type": "execute_result"
    }
   ],
   "source": [
    "\"Hello\" is not \"hello\""
   ]
  },
  {
   "cell_type": "code",
   "execution_count": 36,
   "metadata": {},
   "outputs": [
    {
     "name": "stdout",
     "output_type": "stream",
     "text": [
      "Enter number: 5\n",
      "5 is positive\n"
     ]
    }
   ],
   "source": [
    "n=input(\"Enter number: \")\n",
    "if int(n)>0:\n",
    "    print(str(n)+\" is positive\")"
   ]
  },
  {
   "cell_type": "code",
   "execution_count": 37,
   "metadata": {},
   "outputs": [
    {
     "name": "stdout",
     "output_type": "stream",
     "text": [
      "10\n"
     ]
    },
    {
     "data": {
      "text/plain": [
       "8854880"
      ]
     },
     "execution_count": 37,
     "metadata": {},
     "output_type": "execute_result"
    }
   ],
   "source": [
    "a=10\n",
    "id(a)\n",
    "b=a\n",
    "print(b)\n",
    "id(b)"
   ]
  },
  {
   "cell_type": "code",
   "execution_count": 38,
   "metadata": {},
   "outputs": [
    {
     "name": "stdout",
     "output_type": "stream",
     "text": [
      "0\n",
      "1\n",
      "2\n",
      "3\n",
      "4\n",
      "5\n",
      "6\n",
      "7\n",
      "8\n",
      "9\n",
      "count greater\n",
      "End of loop\n"
     ]
    }
   ],
   "source": [
    "n=0\n",
    "while n<10:\n",
    "    print(n)\n",
    "    n=n+1\n",
    "else:\n",
    "    print(\"count greater\")\n",
    "print(\"End of loop\")"
   ]
  },
  {
   "cell_type": "code",
   "execution_count": 39,
   "metadata": {},
   "outputs": [
    {
     "name": "stdout",
     "output_type": "stream",
     "text": [
      "11\n"
     ]
    },
    {
     "data": {
      "text/plain": [
       "8854912"
      ]
     },
     "execution_count": 39,
     "metadata": {},
     "output_type": "execute_result"
    }
   ],
   "source": [
    "b=b+1\n",
    "print(b)\n",
    "id(b)"
   ]
  },
  {
   "cell_type": "code",
   "execution_count": 40,
   "metadata": {},
   "outputs": [
    {
     "name": "stdout",
     "output_type": "stream",
     "text": [
      "1\n",
      "2\n",
      "3\n",
      "4\n",
      "5\n"
     ]
    }
   ],
   "source": [
    "for index in [1,2,3,4,5]:\n",
    "    print(index)"
   ]
  },
  {
   "cell_type": "code",
   "execution_count": 41,
   "metadata": {},
   "outputs": [],
   "source": [
    "x=300\n",
    "id(x)\n",
    "y=x"
   ]
  },
  {
   "cell_type": "code",
   "execution_count": 42,
   "metadata": {},
   "outputs": [
    {
     "name": "stdout",
     "output_type": "stream",
     "text": [
      "140677702318192\n",
      "140677702318192\n"
     ]
    }
   ],
   "source": [
    "print(id(x))\n",
    "print(id(y))"
   ]
  },
  {
   "cell_type": "code",
   "execution_count": 43,
   "metadata": {},
   "outputs": [
    {
     "data": {
      "text/plain": [
       "140677702317968"
      ]
     },
     "execution_count": 43,
     "metadata": {},
     "output_type": "execute_result"
    }
   ],
   "source": [
    "\n",
    "y=300\n",
    "id(y)"
   ]
  },
  {
   "cell_type": "code",
   "execution_count": 44,
   "metadata": {},
   "outputs": [
    {
     "name": "stdout",
     "output_type": "stream",
     "text": [
      "Last Letter : d\n"
     ]
    }
   ],
   "source": [
    "for letter in 'helloworld':\n",
    "    pass\n",
    "print ('Last Letter :', letter)"
   ]
  },
  {
   "cell_type": "code",
   "execution_count": null,
   "metadata": {},
   "outputs": [],
   "source": [
    "#LAB 1 EXERCISE"
   ]
  },
  {
   "cell_type": "code",
   "execution_count": null,
   "metadata": {},
   "outputs": [],
   "source": [
    "1. Write a program which accepts a number from user and display that number if and only if it\n",
    "is positive value."
   ]
  },
  {
   "cell_type": "code",
   "execution_count": 1,
   "metadata": {},
   "outputs": [
    {
     "name": "stdout",
     "output_type": "stream",
     "text": [
      "Exercise Start\n",
      "\n",
      "\n",
      "Enter Number: -5\n",
      "NOT POSITIVE\n"
     ]
    }
   ],
   "source": [
    "print(\"Exercise Start\\n\\n\")\n",
    "n=input(\"Enter Number: \")\n",
    "if float(n)>0:\n",
    "    print(n)\n",
    "else:\n",
    "    print(\"NOT POSITIVE\")"
   ]
  },
  {
   "cell_type": "code",
   "execution_count": null,
   "metadata": {},
   "outputs": [],
   "source": [
    "2. Write a program which accepts average marks of student and if average is greater than 40\n",
    "then it will display a message “Congratulation!!! You pass this exam successfully” else it\n",
    "will display “Sorry!!! Better luck next time”."
   ]
  },
  {
   "cell_type": "code",
   "execution_count": 2,
   "metadata": {},
   "outputs": [
    {
     "name": "stdout",
     "output_type": "stream",
     "text": [
      "Enter Average Marks: 40.5\n",
      "\"Congratulation!!! You pass this exam successfully\"\n"
     ]
    }
   ],
   "source": [
    "n=input(\"Enter Average Marks: \")\n",
    "if float(n)>40:\n",
    "    print('\"Congratulation!!! You pass this exam successfully\"')\n",
    "else:\n",
    "    print('\"Sorry!!! Better luck next time.\"')"
   ]
  },
  {
   "cell_type": "code",
   "execution_count": null,
   "metadata": {},
   "outputs": [],
   "source": [
    "3. Write a program which accepts marks of five subject and based on average of those marks it\n",
    "will display appropriate grade."
   ]
  },
  {
   "cell_type": "code",
   "execution_count": 3,
   "metadata": {},
   "outputs": [
    {
     "name": "stdout",
     "output_type": "stream",
     "text": [
      "Enter input mark for subject 1 100\n",
      "Enter input mark for subject 2 100\n",
      "Enter input mark for subject 3 100\n",
      "Enter input mark for subject 4 100\n",
      "Enter input mark for subject 5 98\n",
      "Average is  99.6\n",
      "Distinction\n"
     ]
    }
   ],
   "source": [
    "sum=0\n",
    "for a in range(1,6):\n",
    "    inp=input('Enter input mark for subject '+str(a)+\" \")\n",
    "    sum=sum+int(inp)\n",
    "    \n",
    "avg=float(sum/5)\n",
    "print('Average is ',avg)\n",
    "\n",
    "grade=int(avg%10)\n",
    "if grade > 7.5:\n",
    "    print(\"Distinction\")\n",
    "elif grade >=4:\n",
    "    print(\"Pass\")\n",
    "else:\n",
    "    print(\"Fail\")"
   ]
  },
  {
   "cell_type": "code",
   "execution_count": null,
   "metadata": {},
   "outputs": [],
   "source": [
    "4. Write a program to find largest number out of three numbers entered by user."
   ]
  },
  {
   "cell_type": "code",
   "execution_count": 5,
   "metadata": {},
   "outputs": [
    {
     "name": "stdout",
     "output_type": "stream",
     "text": [
      "Enter number 12\n",
      "Enter number 45\n",
      "Enter number 22\n",
      "Maximum is 45\n"
     ]
    }
   ],
   "source": [
    "array=[]\n",
    "for i in range(1,4):\n",
    "    array.append(int(input(\"Enter number \")))\n",
    "max=array[0]\n",
    "for data in array[1:]:\n",
    "    if data > max:\n",
    "        max = data\n",
    "print(\"Maximum is\",max)\n"
   ]
  },
  {
   "cell_type": "code",
   "execution_count": null,
   "metadata": {},
   "outputs": [],
   "source": [
    "Check the output of following code and try to justify the output:"
   ]
  },
  {
   "cell_type": "code",
   "execution_count": 7,
   "metadata": {
    "scrolled": true
   },
   "outputs": [
    {
     "name": "stdout",
     "output_type": "stream",
     "text": [
      "-5 is negative number\n"
     ]
    }
   ],
   "source": [
    "a=-5\n",
    "if a>0:\n",
    "    if a%2==0:\n",
    "        print(str(a)+\" is positive even number\")\n",
    "else:\n",
    "    print(str(a)+\" is negative number\")"
   ]
  },
  {
   "cell_type": "code",
   "execution_count": 8,
   "metadata": {},
   "outputs": [
    {
     "name": "stdout",
     "output_type": "stream",
     "text": [
      "5 is odd number\n"
     ]
    }
   ],
   "source": [
    "a=5\n",
    "if a>0:\n",
    "    if a%2==0:\n",
    "        print(str(a) + \" is positive even number\")\n",
    "    else:\n",
    "        print(str(a) + \" is odd number\")"
   ]
  },
  {
   "cell_type": "code",
   "execution_count": null,
   "metadata": {},
   "outputs": [],
   "source": [
    "For the below elements, print binary of modulo 64 (remainder) result.(Hint: Use function bin\n",
    "and operator %).\n",
    "1111,3333,1235,2378,1212,1456,2134,2345,1111,8231,2222,9999"
   ]
  },
  {
   "cell_type": "code",
   "execution_count": 13,
   "metadata": {},
   "outputs": [
    {
     "name": "stdout",
     "output_type": "stream",
     "text": [
      "Enter number 1111\n",
      "Enter number 3333\n",
      "Enter number 1235\n",
      "Enter number 2378\n",
      "Enter number 1212\n",
      "Enter number 1456\n",
      "Enter number 2134\n",
      "Enter number 2345\n",
      "Enter number 1111\n",
      "Enter number 8231\n",
      "Enter number 2222\n",
      "Enter number 9999\n",
      "1111 23 0b10111\n",
      "3333 5 0b101\n",
      "1235 19 0b10011\n",
      "2378 10 0b1010\n",
      "1212 60 0b111100\n",
      "1456 48 0b110000\n",
      "2134 22 0b10110\n",
      "2345 41 0b101001\n",
      "1111 23 0b10111\n",
      "8231 39 0b100111\n",
      "2222 46 0b101110\n",
      "9999 15 0b1111\n"
     ]
    }
   ],
   "source": [
    "array=[]\n",
    "for i in range(1,13):\n",
    "    array.append(int(input(\"Enter number \")))\n",
    "for n in array[0:]:\n",
    "    ans = n%64\n",
    "    binary=bin(ans)\n",
    "    print(str(n)+\" \"+str(ans)+\" \"+str(binary))"
   ]
  },
  {
   "cell_type": "code",
   "execution_count": null,
   "metadata": {},
   "outputs": [],
   "source": [
    "Write a program to check whether entered number is prime or not."
   ]
  },
  {
   "cell_type": "code",
   "execution_count": 16,
   "metadata": {},
   "outputs": [
    {
     "name": "stdout",
     "output_type": "stream",
     "text": [
      "Enter number: 2\n",
      "Input number is a prime number\n"
     ]
    }
   ],
   "source": [
    "inn = int(input(\"Enter number: \"))\n",
    "c=0\n",
    "for t in range(1,inn+1):\n",
    "    if inn % t == 0:\n",
    "        c=c+1\n",
    "\n",
    "if c == 2 or inn ==1:\n",
    "    print(\"Input number is a prime number\")\n",
    "else:\n",
    "    print(\"Input number is not a prime\")"
   ]
  },
  {
   "cell_type": "code",
   "execution_count": null,
   "metadata": {},
   "outputs": [],
   "source": [
    "Write a program to display armstrong numbers between 1 to n.(where value of n will be\n",
    "provided by user)."
   ]
  },
  {
   "cell_type": "code",
   "execution_count": 18,
   "metadata": {},
   "outputs": [
    {
     "name": "stdout",
     "output_type": "stream",
     "text": [
      "Enter range: 1000\n",
      "1 \n",
      " \n",
      "153 \n",
      " \n",
      "370 \n",
      " \n",
      "371 \n",
      " \n",
      "407 \n",
      " \n"
     ]
    }
   ],
   "source": [
    "n = int(input(\"Enter range: \"))\n",
    "for i in range(1,n):\n",
    "    j=i\n",
    "    sum=0\n",
    "    while(int(j)!=0):\n",
    "        d=j%10\n",
    "        sum=sum+(d*d*d)\n",
    "        j=j//10\n",
    "    if sum == i:\n",
    "        print(str(i)+\" \\n \")"
   ]
  },
  {
   "cell_type": "code",
   "execution_count": null,
   "metadata": {},
   "outputs": [],
   "source": [
    "#LAB 2"
   ]
  },
  {
   "cell_type": "code",
   "execution_count": 1,
   "metadata": {},
   "outputs": [
    {
     "name": "stdout",
     "output_type": "stream",
     "text": [
      "[]\n",
      "[1, 2, 3]\n",
      "[1, 'Hello', 3.4]\n"
     ]
    }
   ],
   "source": [
    "my_list=[]\n",
    "print(my_list)\n",
    "my_list=[1,2,3]\n",
    "print(my_list)\n",
    "my_list=[1,\"Hello\",3.4]\n",
    "print(my_list)"
   ]
  },
  {
   "cell_type": "code",
   "execution_count": 2,
   "metadata": {},
   "outputs": [
    {
     "name": "stdout",
     "output_type": "stream",
     "text": [
      "['h', 'e', 'l', 'l', 'o', 'w', 'o', 'r', 'l', 'd']\n",
      "l\n",
      "o\n"
     ]
    }
   ],
   "source": [
    "l=['h','e','l','l','o','w','o','r','l','d']\n",
    "print(l)\n",
    "print(l[2])\n",
    "print(l[-4])"
   ]
  },
  {
   "cell_type": "code",
   "execution_count": 3,
   "metadata": {},
   "outputs": [
    {
     "name": "stdout",
     "output_type": "stream",
     "text": [
      "['l', 'l', 'o', 'w']\n"
     ]
    }
   ],
   "source": [
    "print(l[2:6])"
   ]
  },
  {
   "cell_type": "code",
   "execution_count": 4,
   "metadata": {},
   "outputs": [
    {
     "data": {
      "text/plain": [
       "['h', 'e', 'l', 'l']"
      ]
     },
     "execution_count": 4,
     "metadata": {},
     "output_type": "execute_result"
    }
   ],
   "source": [
    "l[:4]"
   ]
  },
  {
   "cell_type": "code",
   "execution_count": 6,
   "metadata": {},
   "outputs": [
    {
     "data": {
      "text/plain": [
       "['o', 'r', 'l', 'd']"
      ]
     },
     "execution_count": 6,
     "metadata": {},
     "output_type": "execute_result"
    }
   ],
   "source": [
    "l[6:]"
   ]
  },
  {
   "cell_type": "code",
   "execution_count": 7,
   "metadata": {},
   "outputs": [
    {
     "data": {
      "text/plain": [
       "(1, 3, 'hello', 4, 3.5)"
      ]
     },
     "execution_count": 7,
     "metadata": {},
     "output_type": "execute_result"
    }
   ],
   "source": [
    "t=1,3,\"hello\",4,3.5\n",
    "t"
   ]
  },
  {
   "cell_type": "code",
   "execution_count": 15,
   "metadata": {},
   "outputs": [
    {
     "name": "stdout",
     "output_type": "stream",
     "text": [
      "3\n",
      "4\n",
      "5\n"
     ]
    },
    {
     "data": {
      "text/plain": [
       "(3, 4, 5)"
      ]
     },
     "execution_count": 15,
     "metadata": {},
     "output_type": "execute_result"
    }
   ],
   "source": [
    "d= int(input()),int(input()),int(input())\n",
    "d"
   ]
  },
  {
   "cell_type": "code",
   "execution_count": 16,
   "metadata": {},
   "outputs": [
    {
     "data": {
      "text/plain": [
       "3"
      ]
     },
     "execution_count": 16,
     "metadata": {},
     "output_type": "execute_result"
    }
   ],
   "source": [
    "t[1]"
   ]
  },
  {
   "cell_type": "code",
   "execution_count": 20,
   "metadata": {},
   "outputs": [
    {
     "ename": "TypeError",
     "evalue": "'tuple' object does not support item assignment",
     "output_type": "error",
     "traceback": [
      "\u001b[1;31m---------------------------------------------------------------------------\u001b[0m",
      "\u001b[1;31mTypeError\u001b[0m                                 Traceback (most recent call last)",
      "\u001b[1;32m<ipython-input-20-a32d37638c9a>\u001b[0m in \u001b[0;36m<module>\u001b[1;34m\u001b[0m\n\u001b[1;32m----> 1\u001b[1;33m \u001b[0mt\u001b[0m\u001b[1;33m[\u001b[0m\u001b[1;36m3\u001b[0m\u001b[1;33m]\u001b[0m\u001b[1;33m=\u001b[0m\u001b[1;36m4.0\u001b[0m\u001b[1;33m\u001b[0m\u001b[1;33m\u001b[0m\u001b[0m\n\u001b[0m",
      "\u001b[1;31mTypeError\u001b[0m: 'tuple' object does not support item assignment"
     ]
    }
   ],
   "source": [
    "t[3]=4.0"
   ]
  },
  {
   "cell_type": "code",
   "execution_count": 21,
   "metadata": {},
   "outputs": [
    {
     "data": {
      "text/plain": [
       "{'1', '2', '3', '4', '5', '6'}"
      ]
     },
     "execution_count": 21,
     "metadata": {},
     "output_type": "execute_result"
    }
   ],
   "source": [
    "s=set(\"234516\")\n",
    "s"
   ]
  },
  {
   "cell_type": "code",
   "execution_count": 22,
   "metadata": {},
   "outputs": [
    {
     "data": {
      "text/plain": [
       "{'e', 'h', 'l', 'o'}"
      ]
     },
     "execution_count": 22,
     "metadata": {},
     "output_type": "execute_result"
    }
   ],
   "source": [
    "s1={'h','e','l','l','o'}\n",
    "s1"
   ]
  },
  {
   "cell_type": "code",
   "execution_count": 27,
   "metadata": {},
   "outputs": [
    {
     "data": {
      "text/plain": [
       "{'abc': 153, 'xyz': 456}"
      ]
     },
     "execution_count": 27,
     "metadata": {},
     "output_type": "execute_result"
    }
   ],
   "source": [
    "tel={'abc':123, 'xyz':456, 'abc':153}\n",
    "tel"
   ]
  },
  {
   "cell_type": "code",
   "execution_count": 28,
   "metadata": {},
   "outputs": [
    {
     "data": {
      "text/plain": [
       "153"
      ]
     },
     "execution_count": 28,
     "metadata": {},
     "output_type": "execute_result"
    }
   ],
   "source": [
    "tel['abc']"
   ]
  },
  {
   "cell_type": "code",
   "execution_count": 29,
   "metadata": {},
   "outputs": [
    {
     "data": {
      "text/plain": [
       "True"
      ]
     },
     "execution_count": 29,
     "metadata": {},
     "output_type": "execute_result"
    }
   ],
   "source": [
    "'abc' in tel"
   ]
  },
  {
   "cell_type": "code",
   "execution_count": 30,
   "metadata": {},
   "outputs": [
    {
     "data": {
      "text/plain": [
       "False"
      ]
     },
     "execution_count": 30,
     "metadata": {},
     "output_type": "execute_result"
    }
   ],
   "source": [
    "'abc' not in tel"
   ]
  },
  {
   "cell_type": "code",
   "execution_count": 31,
   "metadata": {},
   "outputs": [
    {
     "data": {
      "text/plain": [
       "{'def': 345, 'xyz': 67, 'abc': 123}"
      ]
     },
     "execution_count": 31,
     "metadata": {},
     "output_type": "execute_result"
    }
   ],
   "source": [
    "d={\"def\":345, \"xyz\":67, \"abc\":123}\n",
    "d"
   ]
  },
  {
   "cell_type": "code",
   "execution_count": 32,
   "metadata": {},
   "outputs": [],
   "source": [
    "del d['abc']"
   ]
  },
  {
   "cell_type": "code",
   "execution_count": 33,
   "metadata": {},
   "outputs": [
    {
     "data": {
      "text/plain": [
       "{'def': 345, 'xyz': 67}"
      ]
     },
     "execution_count": 33,
     "metadata": {},
     "output_type": "execute_result"
    }
   ],
   "source": [
    "d"
   ]
  },
  {
   "cell_type": "code",
   "execution_count": 34,
   "metadata": {},
   "outputs": [],
   "source": [
    "del d"
   ]
  },
  {
   "cell_type": "code",
   "execution_count": 35,
   "metadata": {},
   "outputs": [
    {
     "ename": "NameError",
     "evalue": "name 'd' is not defined",
     "output_type": "error",
     "traceback": [
      "\u001b[1;31m---------------------------------------------------------------------------\u001b[0m",
      "\u001b[1;31mNameError\u001b[0m                                 Traceback (most recent call last)",
      "\u001b[1;32m<ipython-input-35-e983f374794d>\u001b[0m in \u001b[0;36m<module>\u001b[1;34m\u001b[0m\n\u001b[1;32m----> 1\u001b[1;33m \u001b[0md\u001b[0m\u001b[1;33m\u001b[0m\u001b[1;33m\u001b[0m\u001b[0m\n\u001b[0m",
      "\u001b[1;31mNameError\u001b[0m: name 'd' is not defined"
     ]
    }
   ],
   "source": [
    "d"
   ]
  },
  {
   "cell_type": "code",
   "execution_count": 36,
   "metadata": {},
   "outputs": [
    {
     "name": "stdout",
     "output_type": "stream",
     "text": [
      "horse\n",
      "['h', 'o', 'r', 's', 'e']\n"
     ]
    }
   ],
   "source": [
    "s='horse'\n",
    "print(s)\n",
    "i=iter(s)\n",
    "l=[]\n",
    "l.extend(i);\n",
    "print(l)"
   ]
  },
  {
   "cell_type": "code",
   "execution_count": null,
   "metadata": {},
   "outputs": [],
   "source": [
    "#LAB2 EXERCISE"
   ]
  },
  {
   "cell_type": "code",
   "execution_count": null,
   "metadata": {},
   "outputs": [],
   "source": [
    "Write a program that stores following names in a list.Also write instruction to iteratively print names from the list."
   ]
  },
  {
   "cell_type": "code",
   "execution_count": null,
   "metadata": {},
   "outputs": [
    {
     "name": "stdout",
     "output_type": "stream",
     "text": [
      "ramu\n",
      "shyamu\n",
      "kanu\n",
      "manu\n",
      "ramu\n",
      "radha\n",
      "manu\n"
     ]
    }
   ],
   "source": [
    "a=['ramu','shyamu','kanu','manu','ramu','radha','manu']\n",
    "for name in a:\n",
    "    print(name)"
   ]
  },
  {
   "cell_type": "code",
   "execution_count": null,
   "metadata": {},
   "outputs": [],
   "source": [
    "Write a program to remove duplicates from the list (created in Ex:(1)) and print unique names."
   ]
  },
  {
   "cell_type": "code",
   "execution_count": 15,
   "metadata": {},
   "outputs": [
    {
     "name": "stdout",
     "output_type": "stream",
     "text": [
      "kanu\n",
      "radha\n",
      "shyamu\n",
      "manu\n",
      "ramu\n"
     ]
    }
   ],
   "source": [
    "a=['ramu','shyamu','kanu','manu','ramu','radha','manu']\n",
    "b=set()\n",
    "for name in a:\n",
    "    b.add(name)\n",
    "for name in b:\n",
    "    print(name)"
   ]
  },
  {
   "cell_type": "code",
   "execution_count": null,
   "metadata": {},
   "outputs": [],
   "source": [
    "Write a program to create a record of student details. The record maintains following information < student_id, name, age, percentage>.\n",
    "Record1 : 1, „ram‟, „18‟, 65%\n",
    "Record 2 : 2, „shyam‟, 17‟, 70%\n",
    "add following records to the ‘student_record’ created in (3)\n",
    "Record 3 : 3, „Radha‟, „17‟, 75%"
   ]
  },
  {
   "cell_type": "code",
   "execution_count": 18,
   "metadata": {},
   "outputs": [
    {
     "name": "stdout",
     "output_type": "stream",
     "text": [
      "<student_id, name, age, percentage>\n",
      "(1, 'ram', '18', '65%')\n",
      "(2, 'shyam', '17', '70%')\n"
     ]
    }
   ],
   "source": [
    "print(\"<student_id, name, age, percentage>\")\n",
    "st1=1,'ram','18','65%'\n",
    "st2=2,'shyam','17','70%'\n",
    "print(st1)\n",
    "print(st2)"
   ]
  },
  {
   "cell_type": "code",
   "execution_count": null,
   "metadata": {},
   "outputs": [],
   "source": [
    "Write a program to concat student records (created in (3)) of different semesters."
   ]
  },
  {
   "cell_type": "code",
   "execution_count": 20,
   "metadata": {},
   "outputs": [
    {
     "name": "stdout",
     "output_type": "stream",
     "text": [
      "<student_id, name, age, percentage>\n",
      "(1, 'ram', '18', '65%')\n",
      "(2, 'shyam', '17', '70%')\n",
      "(3, 'Radha', '17', '75%')\n"
     ]
    }
   ],
   "source": [
    "print(\"<student_id, name, age, percentage>\")\n",
    "st1=1,'ram','18','65%'\n",
    "st2=2,'shyam','17','70%'\n",
    "record=[st1,st2]\n",
    "st3=3,'Radha','17','75%'\n",
    "record.append(st3)\n",
    "for rec in record:\n",
    "    print(rec)"
   ]
  },
  {
   "cell_type": "code",
   "execution_count": 23,
   "metadata": {},
   "outputs": [
    {
     "name": "stdout",
     "output_type": "stream",
     "text": [
      "concat\n",
      "(1, 'ram', '18', '65%', 2, 'shyam', '17', '70%')\n"
     ]
    }
   ],
   "source": [
    "st1=1,'ram','18','65%'\n",
    "st2=2,'shyam','17','70%'\n",
    "print(\"concat\")\n",
    "print(st1 + st2)"
   ]
  },
  {
   "cell_type": "code",
   "execution_count": null,
   "metadata": {},
   "outputs": [],
   "source": [
    "Write a program to print record of first 5 students."
   ]
  },
  {
   "cell_type": "code",
   "execution_count": 24,
   "metadata": {},
   "outputs": [
    {
     "name": "stdout",
     "output_type": "stream",
     "text": [
      "(1, 'ram', '18', '65%')\n",
      "(2, 'shyam', '17', '70%')\n",
      "(3, 'ramu', '18', '65%')\n",
      "(4, 'radha', '17', '70%')\n",
      "(5, 'manu', '18', '65%')\n"
     ]
    }
   ],
   "source": [
    "st1=1,'ram','18','65%'\n",
    "st2=2,'shyam','17','70%'\n",
    "st3=3,'ramu','18','65%'\n",
    "st4=4,'radha','17','70%'\n",
    "st5=5,'manu','18','65%'\n",
    "record=[st1,st2,st3,st4,st5]\n",
    "for rec in record:\n",
    "    print(rec)"
   ]
  },
  {
   "cell_type": "code",
   "execution_count": null,
   "metadata": {},
   "outputs": [],
   "source": [
    "Write a program to delete record of a specific student"
   ]
  },
  {
   "cell_type": "code",
   "execution_count": 35,
   "metadata": {},
   "outputs": [
    {
     "name": "stdout",
     "output_type": "stream",
     "text": [
      "(1, 'ram', '18', '65%')\n",
      "(2, 'shyam', '17', '70%')\n",
      "(3, 'ramu', '18', '65%')\n",
      "(4, 'radha', '17', '70%')\n",
      "(5, 'manu', '18', '65%')\n",
      "\n",
      "After Deleting Ramu\n",
      "(1, 'ram', '18', '65%')\n",
      "(2, 'shyam', '17', '70%')\n",
      "(4, 'radha', '17', '70%')\n",
      "(5, 'manu', '18', '65%')\n"
     ]
    }
   ],
   "source": [
    "st1=1,'ram','18','65%'\n",
    "st2=2,'shyam','17','70%'\n",
    "st3=3,'ramu','18','65%'\n",
    "st4=4,'radha','17','70%'\n",
    "st5=5,'manu','18','65%'\n",
    "record=[st1,st2,st3,st4,st5]\n",
    "for rec in record:\n",
    "    print(rec)\n",
    "print()\n",
    "print(\"After Deleting Ramu\")\n",
    "del record[2]\n",
    "for rec in record:\n",
    "    print(rec)"
   ]
  },
  {
   "cell_type": "code",
   "execution_count": null,
   "metadata": {},
   "outputs": [],
   "source": [
    "Write a program to combine following dictionaries by averaging values for common keys."
   ]
  },
  {
   "cell_type": "code",
   "execution_count": 67,
   "metadata": {},
   "outputs": [],
   "source": [
    "D1 = {'ram':60, 'shyam':70, 'radha':70}\n",
    "D2 = {'ram':70, 'shyam':80, 'gopi':60}"
   ]
  },
  {
   "cell_type": "code",
   "execution_count": null,
   "metadata": {},
   "outputs": [],
   "source": [
    "Write a program to sort student record by values"
   ]
  },
  {
   "cell_type": "code",
   "execution_count": 92,
   "metadata": {},
   "outputs": [
    {
     "name": "stdout",
     "output_type": "stream",
     "text": [
      "('manu', 5, '18', '65%')\n",
      "('radha', 4, '17', '70%')\n",
      "('ram', 1, '18', '65%')\n",
      "('ramu', 3, '18', '65%')\n",
      "('shyam', 2, '17', '70%')\n"
     ]
    }
   ],
   "source": [
    "st1='ram',1,'18','65%'\n",
    "st2='shyam',2,'17','70%'\n",
    "st3='ramu',3,'18','65%'\n",
    "st4='radha',4,'17','70%'\n",
    "st5='manu',5,'18','65%'\n",
    "name = {st1,st2,st3,st4,st5}\n",
    "for i in sorted(name):\n",
    "    print(i)"
   ]
  },
  {
   "cell_type": "code",
   "execution_count": null,
   "metadata": {},
   "outputs": [],
   "source": [
    "Write a program to print all unique values in a dictionary.\n",
    "Sample Data : [{\"V\":\"S001\"}, {\"V\": \"S002\"}, {\"VI\": \"S001\"}, {\"VI\": \"S005\"}, {\"VII\":\"S005\"}, {\"V\":\"S009\"},{\"VIII\":\"S007\"}]"
   ]
  },
  {
   "cell_type": "code",
   "execution_count": 93,
   "metadata": {},
   "outputs": [
    {
     "name": "stdout",
     "output_type": "stream",
     "text": [
      "S001\n",
      "S002\n",
      "S005\n",
      "S007\n",
      "S009\n"
     ]
    }
   ],
   "source": [
    "lst=({\"V\":\"S001\"}, {\"V\": \"S002\"}, {\"VI\": \"S001\"}, {\"VI\": \"S005\"},  {\"VII\":\"S005\"}, {\"V\":\"S009\"},{\"VIII\":\"S007\"})\n",
    "s=set()\n",
    "for i in lst:\n",
    "    for key in i.keys():\n",
    "        s.add(i[key])\n",
    "ss=sorted(s)\n",
    "for ele in ss:\n",
    "    print (ele)"
   ]
  },
  {
   "cell_type": "code",
   "execution_count": null,
   "metadata": {},
   "outputs": [],
   "source": [
    "Following are the lists of students studying Maths, Physics and Chemistry subjects,\n",
    "Maths = {1, 2, 3, 5, 7, 9}\n",
    "Physics = { 2, 4, 6, 9}\n",
    "Chemistry = {1, 3, 5, 9}\n",
    "Display the numbers which are studying both maths & physics, physics & chemistry, maths&chemistry and all three. Also, display the numbers which are studying exactly one of the three subjects."
   ]
  },
  {
   "cell_type": "code",
   "execution_count": 98,
   "metadata": {},
   "outputs": [
    {
     "name": "stdout",
     "output_type": "stream",
     "text": [
      "Both Maths and Physics\n",
      "{9, 2}\n",
      "Both Physics and Chemistry\n",
      "{9}\n",
      "Both Maths and Chemistry\n",
      "{1, 3, 5, 9}\n",
      "All Three\n",
      "{9}\n",
      "Exactly one of the Three Subjects\n",
      "{4, 6, 7}\n"
     ]
    }
   ],
   "source": [
    "maths = {1, 2, 3, 5, 7, 9} \n",
    "physics = {2, 4, 6, 9}\n",
    "chemistry = {1, 3, 5, 9}\n",
    "\n",
    "print(\"Both Maths and Physics\")\n",
    "print (maths.intersection(physics))\n",
    "\n",
    "print(\"Both Physics and Chemistry\" )\n",
    "print (physics.intersection(chemistry))\n",
    "\n",
    "print(\"Both Maths and Chemistry\")\n",
    "print (maths.intersection(chemistry))\n",
    "\n",
    "print(\"All Three\")\n",
    "print (maths.intersection(chemistry).intersection(physics))\n",
    "\n",
    "oneonly =set()\n",
    "print(\"Exactly one of the Three Subjects\")\n",
    "for x in sMaths.difference(sPhysics).difference(sChemistry):\n",
    "    oneonly.add(x)\n",
    "\n",
    "for x in sPhysics.difference(sChemistry).difference(sMaths):\n",
    "    oneonly.add(x)\n",
    "\n",
    "for x in sChemistry.difference(sMaths).difference(sPhysics):\n",
    "    oneonly.add(x)\n",
    "\n",
    "print (oneonly)"
   ]
  },
  {
   "cell_type": "code",
   "execution_count": null,
   "metadata": {},
   "outputs": [],
   "source": [
    "#LAB 2 Function"
   ]
  },
  {
   "cell_type": "code",
   "execution_count": 4,
   "metadata": {},
   "outputs": [
    {
     "name": "stdout",
     "output_type": "stream",
     "text": [
      "Output is: \n",
      "1\n",
      "Output is: \n",
      "1\n",
      "2\n",
      "3\n",
      "4\n",
      "5\n"
     ]
    }
   ],
   "source": [
    "def printinfo(arg1, *vartuple):\n",
    "    \"THIS prints a variable passed arguments\"\n",
    "    print(\"Output is: \")\n",
    "    print(arg1)\n",
    "    for var in vartuple:\n",
    "        print(var)\n",
    "    return;\n",
    "printinfo(1)\n",
    "printinfo(1,2,3,4,5)"
   ]
  },
  {
   "cell_type": "code",
   "execution_count": 7,
   "metadata": {},
   "outputs": [
    {
     "name": "stdout",
     "output_type": "stream",
     "text": [
      "15.115\n"
     ]
    }
   ],
   "source": [
    "avg = lambda arg1,arg2: (arg1+arg2)/2;\n",
    "print(avg(10,20.23))"
   ]
  },
  {
   "cell_type": "code",
   "execution_count": 9,
   "metadata": {},
   "outputs": [
    {
     "name": "stdout",
     "output_type": "stream",
     "text": [
      "Name is:  Deepang\n",
      "Age is:  19\n",
      "Name is:  Virat\n",
      "Age is:  30\n"
     ]
    }
   ],
   "source": [
    "def fun1(name,age):\n",
    "    print(\"Name is: \",name)\n",
    "    print(\"Age is: \",age)\n",
    "    return\n",
    "fun1(\"Deepang\",19)\n",
    "fun1(age=30,name=\"Virat\")"
   ]
  },
  {
   "cell_type": "code",
   "execution_count": 12,
   "metadata": {},
   "outputs": [
    {
     "name": "stdout",
     "output_type": "stream",
     "text": [
      "['Deepang', 'You are number 1']\n"
     ]
    }
   ],
   "source": [
    "def changeme(l):\n",
    "    l.append(\"You are number 1\")\n",
    "    print(l)\n",
    "    return\n",
    "mylist=[\"Deepang\"]\n",
    "changeme(mylist)"
   ]
  },
  {
   "cell_type": "code",
   "execution_count": null,
   "metadata": {},
   "outputs": [],
   "source": [
    "#LAB2 EXERCISE-2"
   ]
  },
  {
   "cell_type": "code",
   "execution_count": null,
   "metadata": {},
   "outputs": [],
   "source": [
    "Check the output of following code"
   ]
  },
  {
   "cell_type": "code",
   "execution_count": 1,
   "metadata": {},
   "outputs": [
    {
     "name": "stdout",
     "output_type": "stream",
     "text": [
      "x is 50\n",
      "Changed local x to 2\n",
      "x is now 50\n"
     ]
    }
   ],
   "source": [
    "x=50\n",
    "def func(x):\n",
    "    print('x is', x)\n",
    "    x=2\n",
    "    print('Changed local x to', x)\n",
    "func(x)\n",
    "print('x is now',x)"
   ]
  },
  {
   "cell_type": "code",
   "execution_count": null,
   "metadata": {},
   "outputs": [],
   "source": [
    "Write a function to print largest number from provided 3 values as parameter."
   ]
  },
  {
   "cell_type": "code",
   "execution_count": 2,
   "metadata": {},
   "outputs": [
    {
     "name": "stdout",
     "output_type": "stream",
     "text": [
      "20.2332332 is largest\n"
     ]
    }
   ],
   "source": [
    "def lar(x,y,z):\n",
    "    a=max(x,y,z)\n",
    "    print(float(a),'is largest')\n",
    "lar(10,20.2332332,20.2332232)"
   ]
  },
  {
   "cell_type": "code",
   "execution_count": null,
   "metadata": {},
   "outputs": [],
   "source": [
    "Write a function to print prime numbers between provided range."
   ]
  },
  {
   "cell_type": "code",
   "execution_count": 22,
   "metadata": {},
   "outputs": [
    {
     "name": "stdout",
     "output_type": "stream",
     "text": [
      "1 2 3 5 7 "
     ]
    }
   ],
   "source": [
    "def prime(a,b):\n",
    "    for i in range(a,b):\n",
    "        a=0\n",
    "        for x in range(2,int(i/2)+1):\n",
    "            if i%x==0:\n",
    "                a=1\n",
    "                break\n",
    "        if a==0:\n",
    "            print(i, end=\" \")\n",
    "prime(1,10)"
   ]
  },
  {
   "cell_type": "code",
   "execution_count": null,
   "metadata": {},
   "outputs": [],
   "source": [
    "Write a function to swap two values provided as arguments."
   ]
  },
  {
   "cell_type": "code",
   "execution_count": 23,
   "metadata": {},
   "outputs": [
    {
     "name": "stdout",
     "output_type": "stream",
     "text": [
      "After swapping 10 5\n"
     ]
    }
   ],
   "source": [
    "def swap(a,b):\n",
    "    a,b=b,a\n",
    "    print('After swapping',int(a),int(b))\n",
    "    return\n",
    "swap(5,10)"
   ]
  },
  {
   "cell_type": "code",
   "execution_count": null,
   "metadata": {},
   "outputs": [],
   "source": [
    "Write a function to compute simple interest using provided values as arguments\n",
    "if rate of interest is not provided consider it as 3.5%."
   ]
  },
  {
   "cell_type": "code",
   "execution_count": 47,
   "metadata": {},
   "outputs": [
    {
     "name": "stdout",
     "output_type": "stream",
     "text": [
      "11500.0\n"
     ]
    }
   ],
   "source": [
    "def SI(pa,ir,t):\n",
    "    if(ir==''):\n",
    "        ir=3.5\n",
    "    a=pa*(1.0+ ((ir/100)*t))\n",
    "    print(a)\n",
    "    return\n",
    "SI(10000,3,5)"
   ]
  },
  {
   "cell_type": "code",
   "execution_count": null,
   "metadata": {},
   "outputs": [],
   "source": [
    "Write a function to compute the sum of data of variable length."
   ]
  },
  {
   "cell_type": "code",
   "execution_count": 52,
   "metadata": {},
   "outputs": [
    {
     "name": "stdout",
     "output_type": "stream",
     "text": [
      "Sum is 15\n"
     ]
    }
   ],
   "source": [
    "def sumvar(*var):\n",
    "    val=0\n",
    "    for v in var:\n",
    "        val=val+v\n",
    "    print('Sum is',val)\n",
    "    return\n",
    "sumvar(1,2,3,4,5)"
   ]
  },
  {
   "cell_type": "code",
   "execution_count": null,
   "metadata": {},
   "outputs": [],
   "source": [
    "#LAB 3"
   ]
  },
  {
   "cell_type": "code",
   "execution_count": 2,
   "metadata": {},
   "outputs": [
    {
     "name": "stdout",
     "output_type": "stream",
     "text": [
      "File Name:  file1\n",
      "Closed? :  False\n",
      "hello\n"
     ]
    }
   ],
   "source": [
    "fo = open(\"file1\",\"r\")\n",
    "print(\"File Name: \", fo.name)\n",
    "print(\"Closed? : \",fo.closed)\n",
    "str = fo.read(5)\n",
    "print(str)\n",
    "fo.close()"
   ]
  },
  {
   "cell_type": "code",
   "execution_count": 3,
   "metadata": {},
   "outputs": [
    {
     "name": "stdout",
     "output_type": "stream",
     "text": [
      "File Name:  file1\n",
      "Closed? :  False\n",
      "b'hello'\n"
     ]
    }
   ],
   "source": [
    "fo = open(\"file1\",\"rb\")\n",
    "print(\"File Name: \", fo.name)\n",
    "print(\"Closed? : \",fo.closed)\n",
    "str = fo.read(5)\n",
    "print(str)\n",
    "fo.close()"
   ]
  },
  {
   "cell_type": "code",
   "execution_count": 7,
   "metadata": {},
   "outputs": [
    {
     "name": "stdout",
     "output_type": "stream",
     "text": [
      "Hello HI ByeHello HI Bye\n"
     ]
    }
   ],
   "source": [
    "fo = open(\"file1\",\"r+\")\n",
    "fo.write(\"Hello HI Bye\")\n",
    "str1 = fo.read()\n",
    "print(str1)\n",
    "fo.close()"
   ]
  },
  {
   "cell_type": "code",
   "execution_count": 9,
   "metadata": {},
   "outputs": [
    {
     "name": "stdout",
     "output_type": "stream",
     "text": [
      "b'Hello HI ByeHello HI ByeHello HI Bye'\n"
     ]
    }
   ],
   "source": [
    "fo = open(\"file1\",\"rb+\")\n",
    "str1 = fo.read()\n",
    "print(str1)\n",
    "fo.close()"
   ]
  },
  {
   "cell_type": "code",
   "execution_count": 22,
   "metadata": {},
   "outputs": [],
   "source": [
    "fo = open(\"file1\",\"w\")\n",
    "fo.write(\"GOODBYE\")\n",
    "fo.close()"
   ]
  },
  {
   "cell_type": "code",
   "execution_count": 21,
   "metadata": {
    "scrolled": true
   },
   "outputs": [],
   "source": [
    "fo = open(\"file1\",\"wb\")\n",
    "fo.write(bytes(110011))\n",
    "fo.close()"
   ]
  },
  {
   "cell_type": "code",
   "execution_count": 28,
   "metadata": {},
   "outputs": [],
   "source": [
    "fo = open(\"file1\",\"a\")\n",
    "fo.write(\" DEEPANG\")\n",
    "fo.close()"
   ]
  },
  {
   "cell_type": "code",
   "execution_count": 24,
   "metadata": {},
   "outputs": [
    {
     "name": "stdout",
     "output_type": "stream",
     "text": [
      "File Name:  file1\n",
      "Closed? :  False\n",
      "Opening mode :  w+\n",
      "Closed? :  True\n"
     ]
    }
   ],
   "source": [
    "fo = open(\"file1\",\"w+\")\n",
    "print(\"File Name: \", fo.name)\n",
    "print(\"Closed? : \",fo.closed)\n",
    "print(\"Opening mode : \", fo.mode)\n",
    "fo.close()\n",
    "print(\"Closed? : \", fo.closed)"
   ]
  },
  {
   "cell_type": "code",
   "execution_count": 39,
   "metadata": {},
   "outputs": [
    {
     "name": "stdout",
     "output_type": "stream",
     "text": [
      "Read String is :   DEEPANG RAVAL\n",
      "Current file position :  14\n",
      "Current file position :  1\n",
      "Again read String is :   DEEPANG RAVAL\n"
     ]
    }
   ],
   "source": [
    "fo = open(\"file1\",\"r+\")\n",
    "str = fo.read()\n",
    "print(\"Read String is : \",str)\n",
    "position = fo.tell()\n",
    "print(\"Current file position : \",position)\n",
    "position = fo.seek (1,0)\n",
    "print(\"Current file position : \",position)\n",
    "str = fo.read()\n",
    "print(\"Again read String is :  \",str)\n",
    "fo.close()"
   ]
  },
  {
   "cell_type": "code",
   "execution_count": null,
   "metadata": {},
   "outputs": [],
   "source": [
    "#LAB3 EXERCISE"
   ]
  },
  {
   "cell_type": "code",
   "execution_count": null,
   "metadata": {},
   "outputs": [],
   "source": [
    "Write a program to read a text file and find unique words with their occurrences and display tabular form the analysis."
   ]
  },
  {
   "cell_type": "code",
   "execution_count": 8,
   "metadata": {},
   "outputs": [
    {
     "name": "stdout",
     "output_type": "stream",
     "text": [
      "['hi', 'hello', 'hi', 'bye', 'one', 'two', 'three', 'hi', 'hi']\n",
      "\n",
      "Unique Words\n",
      "{'hi': 4, 'hello': 1, 'bye': 1, 'one': 1, 'two': 1, 'three': 1}\n"
     ]
    }
   ],
   "source": [
    "def file(inp):\n",
    "    inp = open(inp, 'r')\n",
    "    con = inp.read()\n",
    "    inp.close()\n",
    "    counts = dict()\n",
    "    wl = con.split()\n",
    "    print(wl)\n",
    "    print()\n",
    "    print(\"Unique Words\")\n",
    "    for word1 in wl:\n",
    "        if word1 in counts:\n",
    "            counts[word1] += 1\n",
    "        else:\n",
    "            counts[word1] = 1\n",
    "    print(counts)\n",
    "file(\"file2.txt\")"
   ]
  },
  {
   "cell_type": "code",
   "execution_count": null,
   "metadata": {},
   "outputs": [],
   "source": [
    "Write a program which reads a sample C Program file as input, stores the content to the another file without any single line comments within."
   ]
  },
  {
   "cell_type": "code",
   "execution_count": 9,
   "metadata": {},
   "outputs": [
    {
     "name": "stdout",
     "output_type": "stream",
     "text": [
      "#include\n",
      "<stdio.h>\n",
      "int\n",
      "main()\n",
      "{\n",
      "int\n",
      "n;\n",
      "printf(\"Enter\n",
      "an\n",
      "integer\\n\");\n",
      "scanf(\"%d\",\n",
      "&n);\n",
      "if\n",
      "(n%2\n",
      "==\n",
      "0)\n",
      "printf(\"Even\\n\");\n",
      "else\n",
      "printf(\"Odd\\n\");\n",
      "return\n",
      "0;\n",
      "}\n"
     ]
    }
   ],
   "source": [
    "f1=open(\"numbers.c\",'r')\n",
    "f2=open(\"numbers2.c\",'w')\n",
    "for line in f1:\n",
    "    if(line.rfind(\"//\")==-1):\n",
    "        f2.write(line)\n",
    "f1.close()\n",
    "f2.close()\n",
    "ff=open(\"numbers2.c\",'r')\n",
    "for line_1 in ff:\n",
    "    for word in line_1.split():\n",
    "        print(word)\n",
    "ff.close()"
   ]
  },
  {
   "cell_type": "code",
   "execution_count": null,
   "metadata": {},
   "outputs": [],
   "source": [
    "Store students' records to a file named students.csv. Know that record contains following information <student_id, name, age, percentage>. '.csv' format contains comma-separated values of record line by line."
   ]
  },
  {
   "cell_type": "code",
   "execution_count": 10,
   "metadata": {},
   "outputs": [
    {
     "name": "stdout",
     "output_type": "stream",
     "text": [
      "(1, 'Deepang', '19', 95)\n",
      "(2, 'Hanuman', '19', 100)\n",
      "(3, 'Brahma', '19', 90)\n"
     ]
    }
   ],
   "source": [
    "import csv\n",
    "rec1=(1,'Deepang','19',95)\n",
    "rec2=(2,'Hanuman','19',100)\n",
    "rec3=(3,'Brahma','19',90)\n",
    "students=[rec1,rec2,rec3]\n",
    "for Student in students:\n",
    "    print(Student)\n",
    "with open(\"students.csv\",'w',newline='') as csvfile:\n",
    "    writer=csv.writer(csvfile)\n",
    "    writer.writerows(students)"
   ]
  },
  {
   "cell_type": "code",
   "execution_count": null,
   "metadata": {},
   "outputs": [],
   "source": [
    "Read file students.csv and display tabular form students records. Also, count and at the end display total how many students are recorded in the file (count)."
   ]
  },
  {
   "cell_type": "code",
   "execution_count": 11,
   "metadata": {},
   "outputs": [
    {
     "name": "stdout",
     "output_type": "stream",
     "text": [
      "['1', 'Deepang', '19', '95']\n",
      "['2', 'Hanuman', '19', '100']\n",
      "['3', 'Brahma', '19', '90']\n",
      "Total students are 3\n"
     ]
    }
   ],
   "source": [
    "import csv\n",
    "count=0\n",
    "with open(\"students.csv\",newline=\"\\n\") as csvfile:\n",
    "    reader=csv.reader(csvfile)\n",
    "    for row in reader:\n",
    "        print(row)\n",
    "        count+=1\n",
    "print(\"Total students are\",count)"
   ]
  },
  {
   "cell_type": "code",
   "execution_count": null,
   "metadata": {},
   "outputs": [],
   "source": [
    "Learn handling file I/O errors using exception handling in Python.\n",
    "https://docs.python.org/3/tutorial/errors.html#exceptions Run the given python program in below different scenarios and check output to understand exception handling:"
   ]
  },
  {
   "cell_type": "code",
   "execution_count": 12,
   "metadata": {},
   "outputs": [
    {
     "name": "stdout",
     "output_type": "stream",
     "text": [
      "1 2 3\n"
     ]
    }
   ],
   "source": [
    "with open(\"myfile.txt\",'w+') as f1:\n",
    "    f1.write(\"1 2 3\")\n",
    "    f1.seek(0,0)\n",
    "    print(f1.read())"
   ]
  },
  {
   "cell_type": "code",
   "execution_count": 13,
   "metadata": {},
   "outputs": [
    {
     "name": "stdout",
     "output_type": "stream",
     "text": [
      "123\n"
     ]
    }
   ],
   "source": [
    "with open(\"myfile.txt\",'w+') as f1:\n",
    "    f1.write(\"123\")\n",
    "    f1.seek(0,0)\n",
    "    print(f1.read())"
   ]
  },
  {
   "cell_type": "code",
   "execution_count": 14,
   "metadata": {},
   "outputs": [
    {
     "name": "stdout",
     "output_type": "stream",
     "text": [
      "123\n"
     ]
    }
   ],
   "source": [
    "import sys\n",
    "try:\n",
    "    f=open('myfile.txt')\n",
    "    s=f.readline()\n",
    "    i=int(s.strip())\n",
    "    print(i)\n",
    "except OSError as err:\n",
    "    print(\"OS error: {0}\".format(err))\n",
    "except ValueError:\n",
    "    print(\"Could not convert data to an integer.\")\n",
    "except:\n",
    "    print(\"Unexpected error:\",sys.exc_info()[0])\n",
    "    raise"
   ]
  },
  {
   "cell_type": "code",
   "execution_count": null,
   "metadata": {},
   "outputs": [],
   "source": [
    "Also, practice JSON data handling using python."
   ]
  },
  {
   "cell_type": "code",
   "execution_count": 7,
   "metadata": {},
   "outputs": [
    {
     "name": "stdout",
     "output_type": "stream",
     "text": [
      "[1, \"simple\", \"out\"]\n",
      "[1, \"simple\", \"out\"]\n",
      "ready existing json file\n",
      "{'glossary': {'title': 'example glossary', 'GlossDiv': {'title': 'S', 'GlossList': {'GlossEntry': {'ID': 'SGML', 'SortAs': 'SGML', 'GlossTerm': 'Standard Generalized Markup Language', 'Acronym': 'SGML', 'Abbrev': 'ISO 8879:1986', 'GlossDef': {'para': 'A meta-markup language, used to create markup languages such as DocBook.', 'GlossSeeAlso': ['GML', 'XML']}, 'GlossSee': 'markup'}}}}}\n",
      "<class 'dict'>\n"
     ]
    }
   ],
   "source": [
    "import json\n",
    "j=json.dumps([1,'simple','out'])\n",
    "print(j)\n",
    "fo=open(\"data.json\",'w')\n",
    "json.dump(j,fo)\n",
    "fo.close()\n",
    "fi=open(\"data.json\",'r')\n",
    "x=json.load(fi)\n",
    "fi.close()\n",
    "print(x)\n",
    "print(\"ready existing json file\")\n",
    "with open(\"input.json\",'r') as f:\n",
    "    y=json.load(f)\n",
    "print(y)\n",
    "print(type(y))"
   ]
  },
  {
   "cell_type": "code",
   "execution_count": null,
   "metadata": {},
   "outputs": [],
   "source": [
    "#LAB 4"
   ]
  },
  {
   "cell_type": "code",
   "execution_count": 2,
   "metadata": {},
   "outputs": [
    {
     "name": "stdout",
     "output_type": "stream",
     "text": [
      "XYZ 10 CE\n"
     ]
    }
   ],
   "source": [
    "class Student:\n",
    "    branch=\"CE\"\n",
    "    def __init__(self,name,sid):\n",
    "        self.name=name\n",
    "        self.sid=sid\n",
    "        Student.branch=\"CE\"\n",
    "        \n",
    "    def displayDetail(self):\n",
    "        print(self.name+\" \"+str(self.sid)+\" \"+Student.branch)\n",
    "        return\n",
    "s=Student(\"XYZ\",10)\n",
    "s.displayDetail()"
   ]
  },
  {
   "cell_type": "code",
   "execution_count": 4,
   "metadata": {},
   "outputs": [
    {
     "name": "stdout",
     "output_type": "stream",
     "text": [
      "1\n",
      "2\n",
      "3\n",
      "1\n"
     ]
    }
   ],
   "source": [
    "class Parent:\n",
    "    def __init__(self,att1):\n",
    "        self.att1=att1\n",
    "    def getAtt1(self):\n",
    "        return self.att1\n",
    "    \n",
    "class Child(Parent):\n",
    "    def __init__(self,att1,att2):\n",
    "        self.att2=att2\n",
    "        super().__init__(att1)\n",
    "    def getAtt2(self):\n",
    "        return self.att2\n",
    "p=Parent(1)\n",
    "c=Child(2,3)\n",
    "print(p.getAtt1())\n",
    "print(c.getAtt1())\n",
    "print(c.getAtt2())\n",
    "print(p.getAtt1())"
   ]
  },
  {
   "cell_type": "code",
   "execution_count": 9,
   "metadata": {},
   "outputs": [
    {
     "ename": "TypeError",
     "evalue": "meth1() missing 1 required positional argument: 'j'",
     "output_type": "error",
     "traceback": [
      "\u001b[0;31m---------------------------------------------------------------------------\u001b[0m",
      "\u001b[0;31mTypeError\u001b[0m                                 Traceback (most recent call last)",
      "\u001b[0;32m<ipython-input-9-4ee6dac6a288>\u001b[0m in \u001b[0;36m<module>\u001b[0;34m\u001b[0m\n\u001b[1;32m      6\u001b[0m         \u001b[0mprint\u001b[0m\u001b[0;34m(\u001b[0m\u001b[0;34m\"Second Method \"\u001b[0m\u001b[0;34m+\u001b[0m\u001b[0mstr\u001b[0m\u001b[0;34m(\u001b[0m\u001b[0mi\u001b[0m\u001b[0;34m)\u001b[0m\u001b[0;34m)\u001b[0m\u001b[0;34m\u001b[0m\u001b[0m\n\u001b[1;32m      7\u001b[0m \u001b[0mob\u001b[0m\u001b[0;34m=\u001b[0m\u001b[0mA\u001b[0m\u001b[0;34m(\u001b[0m\u001b[0;34m)\u001b[0m\u001b[0;34m\u001b[0m\u001b[0m\n\u001b[0;32m----> 8\u001b[0;31m \u001b[0mob\u001b[0m\u001b[0;34m.\u001b[0m\u001b[0mmeth1\u001b[0m\u001b[0;34m(\u001b[0m\u001b[0;36m2\u001b[0m\u001b[0;34m)\u001b[0m\u001b[0;34m\u001b[0m\u001b[0m\n\u001b[0m",
      "\u001b[0;31mTypeError\u001b[0m: meth1() missing 1 required positional argument: 'j'"
     ]
    }
   ],
   "source": [
    "class A:\n",
    "    def meth1(self,i):\n",
    "        print(\"First Method\")\n",
    "        \n",
    "    def meth1(self,i,j):\n",
    "        print(\"Second Method \"+str(i))\n",
    "ob=A()\n",
    "ob.meth1(2)"
   ]
  },
  {
   "cell_type": "code",
   "execution_count": 12,
   "metadata": {},
   "outputs": [
    {
     "name": "stdout",
     "output_type": "stream",
     "text": [
      "1\n",
      "4\n",
      "3\n"
     ]
    }
   ],
   "source": [
    "class Parent:\n",
    "    def __init__(self,att1):\n",
    "        self.att1=att1\n",
    "    def getAtt1(self):\n",
    "        return self.att1\n",
    "    \n",
    "class Child(Parent):\n",
    "    def __init__(self,att1,att2):\n",
    "        self.att2=att2\n",
    "        super().__init__(att1)\n",
    "    def getAtt2(self):\n",
    "        return self.att2\n",
    "    def getAtt1(self):\n",
    "        return self.att1*2\n",
    "p=Parent(1)\n",
    "c=Child(2,3)\n",
    "print(p.getAtt1())\n",
    "print(c.getAtt1())\n",
    "print(c.getAtt2())"
   ]
  },
  {
   "cell_type": "code",
   "execution_count": 14,
   "metadata": {},
   "outputs": [
    {
     "name": "stdout",
     "output_type": "stream",
     "text": [
      "Vector (7, 8)\n"
     ]
    }
   ],
   "source": [
    "class Vector:\n",
    "    def __init__(self,a,b):\n",
    "        self.a=a\n",
    "        self.b=b\n",
    "        \n",
    "    def __str__(self):\n",
    "        return 'Vector (%d, %d)' % (self.a, self.b)\n",
    "    \n",
    "    def __add__(self,other):\n",
    "        return Vector(self.a+other.a,self.b+other.b)\n",
    "    \n",
    "v1=Vector(2,10)\n",
    "v2=Vector(5,-2)\n",
    "print(v1+v2)"
   ]
  },
  {
   "cell_type": "code",
   "execution_count": null,
   "metadata": {},
   "outputs": [],
   "source": [
    "#EXERCISE#"
   ]
  },
  {
   "cell_type": "code",
   "execution_count": null,
   "metadata": {},
   "outputs": [],
   "source": [
    "Create a class Counter having one member variable count. Initialize it with zero with creation of each object and also write member method countUp to increase the value of count by one with every method call."
   ]
  },
  {
   "cell_type": "code",
   "execution_count": 27,
   "metadata": {
    "scrolled": true
   },
   "outputs": [
    {
     "name": "stdout",
     "output_type": "stream",
     "text": [
      "2\n"
     ]
    }
   ],
   "source": [
    "class Counter:\n",
    "    def __init__(self):\n",
    "        self.count=0\n",
    "    def countUp(self):\n",
    "        self.count+=1\n",
    "    def getCount(self):\n",
    "        return self.count\n",
    "c=Counter()\n",
    "c.countUp()\n",
    "c.countUp()\n",
    "print(c.getCount())"
   ]
  },
  {
   "cell_type": "code",
   "execution_count": null,
   "metadata": {},
   "outputs": [],
   "source": [
    "Import above module(consider that Counter class is defined in file P1.py) and derive a class CountDown from Counter class with one more method countDown to decrease a value of count by one with every method call."
   ]
  },
  {
   "cell_type": "code",
   "execution_count": 32,
   "metadata": {},
   "outputs": [
    {
     "name": "stdout",
     "output_type": "stream",
     "text": [
      "3\n"
     ]
    }
   ],
   "source": [
    "import CounterClass \n",
    "\n",
    "class CountDown(Counter):\n",
    "    def __init__(self):\n",
    "        super().__init__()\n",
    "    def countDown(self):\n",
    "        self.count-=1\n",
    "c=CountDown()\n",
    "c.countUp()\n",
    "c.countUp()\n",
    "c.countDown()\n",
    "c.countUp()\n",
    "c.countUp()\n",
    "print(c.getCount())"
   ]
  },
  {
   "cell_type": "code",
   "execution_count": null,
   "metadata": {},
   "outputs": [],
   "source": [
    "In above program override countUp method to increase the value of count by 2 with each method call."
   ]
  },
  {
   "cell_type": "code",
   "execution_count": 33,
   "metadata": {},
   "outputs": [
    {
     "name": "stdout",
     "output_type": "stream",
     "text": [
      "4\n"
     ]
    }
   ],
   "source": [
    "import CounterClass\n",
    "\n",
    "class CountUp(Counter):\n",
    "    def __init__(self):\n",
    "        super().__init__()\n",
    "    def countUp(self):\n",
    "        self.count+=2\n",
    "        \n",
    "c=CountUp()\n",
    "c.countUp()\n",
    "c.countUp()\n",
    "print(c.getCount())"
   ]
  },
  {
   "cell_type": "code",
   "execution_count": null,
   "metadata": {},
   "outputs": [],
   "source": [
    "Create class exam having three member variable to store the marks of three subject. Overload <, > and = operator to compare two object of Exam class based on total marks. Also write executable statements to test Exam class."
   ]
  },
  {
   "cell_type": "code",
   "execution_count": 39,
   "metadata": {
    "scrolled": true
   },
   "outputs": [
    {
     "name": "stdout",
     "output_type": "stream",
     "text": [
      "It is Not Less\n",
      "It is Greater\n",
      "It is Not Equal\n"
     ]
    }
   ],
   "source": [
    "class Exam:\n",
    "    def __init__(self,m1,m2,m3):\n",
    "        self.m1=m1\n",
    "        self.m2=m2\n",
    "        self.m3=m3\n",
    "    def __lt__(self,other):\n",
    "        if (self.m1+self.m2+self.m3 < other.m1+other.m2+other.m3):\n",
    "            return 'It is Less'\n",
    "        else:\n",
    "            return 'It is Not Less'\n",
    "    def __gt__(self,other):\n",
    "        if (self.m1+self.m2+self.m3 > other.m1+other.m2+other.m3):\n",
    "            return 'It is Greater'\n",
    "        else:\n",
    "            return 'It is not Greater'\n",
    "    def __eq__(self,other):\n",
    "        if (self.m1+self.m2+self.m3 == other.m1+other.m2+other.m3):\n",
    "            return 'It is Equal'\n",
    "        else:\n",
    "            return 'It is Not Equal'\n",
    "e1=Exam(50,75,80)\n",
    "e2=Exam(70,43,29)\n",
    "print(e1<e2)\n",
    "print(e1>e2)\n",
    "print(e1==e2)"
   ]
  },
  {
   "cell_type": "code",
   "execution_count": null,
   "metadata": {},
   "outputs": [],
   "source": [
    "Create a package Calculator having four files add.py, sub.py, mul.py and div.py with functions to perform addition, subtraction, multiplication and division respectively. Import Calculator package in your code and implement simple calculator."
   ]
  },
  {
   "cell_type": "code",
   "execution_count": 5,
   "metadata": {
    "scrolled": true
   },
   "outputs": [
    {
     "ename": "TypeError",
     "evalue": "'module' object is not callable",
     "output_type": "error",
     "traceback": [
      "\u001b[1;31m---------------------------------------------------------------------------\u001b[0m",
      "\u001b[1;31mTypeError\u001b[0m                                 Traceback (most recent call last)",
      "\u001b[1;32m<ipython-input-5-cb16f4755c8e>\u001b[0m in \u001b[0;36m<module>\u001b[1;34m\u001b[0m\n\u001b[0;32m      1\u001b[0m \u001b[1;32mimport\u001b[0m \u001b[0madd\u001b[0m\u001b[1;33m\u001b[0m\u001b[1;33m\u001b[0m\u001b[0m\n\u001b[1;32m----> 2\u001b[1;33m \u001b[0mprint\u001b[0m\u001b[1;33m(\u001b[0m\u001b[0madd\u001b[0m\u001b[1;33m(\u001b[0m\u001b[1;36m1\u001b[0m\u001b[1;33m,\u001b[0m\u001b[1;36m2\u001b[0m\u001b[1;33m)\u001b[0m\u001b[1;33m)\u001b[0m\u001b[1;33m\u001b[0m\u001b[1;33m\u001b[0m\u001b[0m\n\u001b[0m",
      "\u001b[1;31mTypeError\u001b[0m: 'module' object is not callable"
     ]
    }
   ],
   "source": [
    "import add\n",
    "print(add(1,2))"
   ]
  },
  {
   "cell_type": "code",
   "execution_count": null,
   "metadata": {},
   "outputs": [],
   "source": []
  },
  {
   "cell_type": "code",
   "execution_count": null,
   "metadata": {},
   "outputs": [],
   "source": []
  },
  {
   "cell_type": "code",
   "execution_count": null,
   "metadata": {},
   "outputs": [],
   "source": []
  },
  {
   "cell_type": "code",
   "execution_count": null,
   "metadata": {},
   "outputs": [],
   "source": []
  },
  {
   "cell_type": "code",
   "execution_count": null,
   "metadata": {},
   "outputs": [],
   "source": []
  },
  {
   "cell_type": "code",
   "execution_count": null,
   "metadata": {},
   "outputs": [],
   "source": []
  },
  {
   "cell_type": "code",
   "execution_count": null,
   "metadata": {},
   "outputs": [],
   "source": []
  },
  {
   "cell_type": "code",
   "execution_count": null,
   "metadata": {},
   "outputs": [],
   "source": []
  },
  {
   "cell_type": "code",
   "execution_count": null,
   "metadata": {},
   "outputs": [],
   "source": []
  },
  {
   "cell_type": "code",
   "execution_count": 6,
   "metadata": {},
   "outputs": [
    {
     "ename": "TypeError",
     "evalue": "'module' object is not callable",
     "output_type": "error",
     "traceback": [
      "\u001b[1;31m---------------------------------------------------------------------------\u001b[0m",
      "\u001b[1;31mTypeError\u001b[0m                                 Traceback (most recent call last)",
      "\u001b[1;32m<ipython-input-6-bfcb99176960>\u001b[0m in \u001b[0;36m<module>\u001b[1;34m\u001b[0m\n\u001b[0;32m      1\u001b[0m \u001b[1;32mimport\u001b[0m \u001b[0madd\u001b[0m\u001b[1;33m\u001b[0m\u001b[1;33m\u001b[0m\u001b[0m\n\u001b[1;32m----> 2\u001b[1;33m \u001b[0madd\u001b[0m\u001b[1;33m(\u001b[0m\u001b[1;33m)\u001b[0m\u001b[1;33m\u001b[0m\u001b[1;33m\u001b[0m\u001b[0m\n\u001b[0m",
      "\u001b[1;31mTypeError\u001b[0m: 'module' object is not callable"
     ]
    }
   ],
   "source": []
  },
  {
   "cell_type": "code",
   "execution_count": null,
   "metadata": {},
   "outputs": [],
   "source": []
  },
  {
   "cell_type": "code",
   "execution_count": null,
   "metadata": {},
   "outputs": [],
   "source": []
  },
  {
   "cell_type": "code",
   "execution_count": null,
   "metadata": {},
   "outputs": [],
   "source": []
  },
  {
   "cell_type": "code",
   "execution_count": null,
   "metadata": {},
   "outputs": [],
   "source": []
  },
  {
   "cell_type": "code",
   "execution_count": null,
   "metadata": {},
   "outputs": [],
   "source": []
  }
 ],
 "metadata": {
  "kernelspec": {
   "display_name": "Python 3",
   "language": "python",
   "name": "python3"
  },
  "language_info": {
   "codemirror_mode": {
    "name": "ipython",
    "version": 3
   },
   "file_extension": ".py",
   "mimetype": "text/x-python",
   "name": "python",
   "nbconvert_exporter": "python",
   "pygments_lexer": "ipython3",
   "version": "3.7.1"
  }
 },
 "nbformat": 4,
 "nbformat_minor": 2
}
